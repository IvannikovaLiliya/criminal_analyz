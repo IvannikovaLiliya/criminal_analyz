{
 "nbformat": 4,
 "nbformat_minor": 0,
 "metadata": {
  "colab": {
   "name": "Bekker_model_Ivannikova.ipynb",
   "provenance": [],
   "collapsed_sections": [],
   "toc_visible": true
  },
  "kernelspec": {
   "display_name": "Python 3",
   "language": "python",
   "name": "python3"
  },
  "language_info": {
   "codemirror_mode": {
    "name": "ipython",
    "version": 3
   },
   "file_extension": ".py",
   "mimetype": "text/x-python",
   "name": "python",
   "nbconvert_exporter": "python",
   "pygments_lexer": "ipython3",
   "version": "3.8.3"
  },
  "toc": {
   "base_numbering": 1,
   "nav_menu": {},
   "number_sections": true,
   "sideBar": true,
   "skip_h1_title": false,
   "title_cell": "Table of Contents",
   "title_sidebar": "Contents",
   "toc_cell": false,
   "toc_position": {},
   "toc_section_display": true,
   "toc_window_display": false
  }
 },
 "cells": [
  {
   "cell_type": "markdown",
   "metadata": {
    "id": "qgrKC_x7Dg8J"
   },
   "source": [
    "## Экономика преступления и наказания"
   ]
  },
  {
   "cell_type": "markdown",
   "metadata": {
    "id": "LHl6XjDGnkog"
   },
   "source": [
    "# Baseline model"
   ]
  },
  {
   "cell_type": "markdown",
   "metadata": {
    "id": "PzMplKC2NbjU"
   },
   "source": [
    "### Загрузка и просмотр данных"
   ]
  },
  {
   "cell_type": "markdown",
   "metadata": {
    "id": "At5gsC03Dm9s"
   },
   "source": [
    "Данные взяты из открытого досутпа с сайтов Росстат и crimestat <br/> Выполнена предварительная обработка данных (парсинг, приведение данных к информативным показателям). \n",
    "* **Преступность** - были получены данные, соответствующие кол-ву зарегестрированных преступлений в регионах России за 10 лет. Для того, чтобы оценить полученную выборку, она была приведена к доле преступлений на число населения, зарегестрированного в регионе на текущий год.\n",
    "* **Средняя зарплата** - описана в тысячах. Предварительно данные получены в проценте прироста среднего заработка в регионе по сравнению к предыдущему году. Так как такие данные не несут информативности при сравнении уровня жизни в разных регионах, был проведен пересчет в тысячи рублей.\n",
    "* **Безработица** - данные используются в том виде, в котором изначально были получены"
   ]
  },
  {
   "cell_type": "code",
   "metadata": {
    "colab": {
     "base_uri": "https://localhost:8080/"
    },
    "id": "G_FHh6DhBoF1",
    "outputId": "930816bb-c896-4fbe-b365-318209cecaea"
   },
   "source": [
    "import pandas as pd \n",
    "import matplotlib.pyplot as plt\n",
    "import numpy as np\n",
    "import seaborn as sns\n",
    "import plotly.express as px\n",
    "from mpl_toolkits.mplot3d import Axes3D\n",
    "\n",
    "from sklearn import preprocessing\n",
    "from sklearn.linear_model import LinearRegression, Ridge, Lasso, ElasticNet\n",
    "from sklearn.metrics import mean_squared_error, r2_score\n",
    "from sklearn.model_selection import TimeSeriesSplit, train_test_split, cross_val_score, KFold\n",
    "\n",
    "%pylab inline\n",
    "sns.set()"
   ],
   "execution_count": 187,
   "outputs": [
    {
     "output_type": "stream",
     "text": [
      "Populating the interactive namespace from numpy and matplotlib\n"
     ],
     "name": "stdout"
    }
   ]
  },
  {
   "cell_type": "markdown",
   "metadata": {
    "id": "6vJvz1qOMoWN"
   },
   "source": [
    "Загрузка данных"
   ]
  },
  {
   "cell_type": "code",
   "metadata": {
    "id": "XLqRxrWZXBqM"
   },
   "source": [
    "data_fr = pd.read_csv(\"data_final.csv\", sep=';', index_col=[0, 1], decimal=\",\")"
   ],
   "execution_count": 188,
   "outputs": []
  },
  {
   "cell_type": "code",
   "metadata": {
    "id": "U-8lc36GjT_K"
   },
   "source": [
    "data_fr.rename(columns={\"unemployee\": \"unemployment\"}, inplace=True)"
   ],
   "execution_count": 189,
   "outputs": []
  },
  {
   "cell_type": "code",
   "metadata": {
    "colab": {
     "base_uri": "https://localhost:8080/",
     "height": 227
    },
    "id": "3nf5ldsKZkSW",
    "outputId": "ff21df33-ea62-4ee3-bffc-ed761aeb3cdf"
   },
   "source": [
    "data_fr.head(5)"
   ],
   "execution_count": 190,
   "outputs": [
    {
     "output_type": "execute_result",
     "data": {
      "text/html": [
       "<div>\n",
       "<style scoped>\n",
       "    .dataframe tbody tr th:only-of-type {\n",
       "        vertical-align: middle;\n",
       "    }\n",
       "\n",
       "    .dataframe tbody tr th {\n",
       "        vertical-align: top;\n",
       "    }\n",
       "\n",
       "    .dataframe thead th {\n",
       "        text-align: right;\n",
       "    }\n",
       "</style>\n",
       "<table border=\"1\" class=\"dataframe\">\n",
       "  <thead>\n",
       "    <tr style=\"text-align: right;\">\n",
       "      <th></th>\n",
       "      <th></th>\n",
       "      <th>criminality</th>\n",
       "      <th>salary</th>\n",
       "      <th>unemployment</th>\n",
       "    </tr>\n",
       "    <tr>\n",
       "      <th>region_name</th>\n",
       "      <th>year</th>\n",
       "      <th></th>\n",
       "      <th></th>\n",
       "      <th></th>\n",
       "    </tr>\n",
       "  </thead>\n",
       "  <tbody>\n",
       "    <tr>\n",
       "      <th rowspan=\"5\" valign=\"top\">Алтайский край</th>\n",
       "      <th>2010</th>\n",
       "      <td>1.980849</td>\n",
       "      <td>12050.7</td>\n",
       "      <td>4.560774</td>\n",
       "    </tr>\n",
       "    <tr>\n",
       "      <th>2011</th>\n",
       "      <td>1.862957</td>\n",
       "      <td>13822.6</td>\n",
       "      <td>4.278832</td>\n",
       "    </tr>\n",
       "    <tr>\n",
       "      <th>2012</th>\n",
       "      <td>1.752067</td>\n",
       "      <td>16009.7</td>\n",
       "      <td>3.095519</td>\n",
       "    </tr>\n",
       "    <tr>\n",
       "      <th>2013</th>\n",
       "      <td>1.880157</td>\n",
       "      <td>18011.3</td>\n",
       "      <td>4.000094</td>\n",
       "    </tr>\n",
       "    <tr>\n",
       "      <th>2014</th>\n",
       "      <td>1.846779</td>\n",
       "      <td>19456.0</td>\n",
       "      <td>3.492446</td>\n",
       "    </tr>\n",
       "  </tbody>\n",
       "</table>\n",
       "</div>"
      ],
      "text/plain": [
       "                     criminality   salary  unemployment\n",
       "region_name    year                                    \n",
       "Алтайский край 2010     1.980849  12050.7      4.560774\n",
       "               2011     1.862957  13822.6      4.278832\n",
       "               2012     1.752067  16009.7      3.095519\n",
       "               2013     1.880157  18011.3      4.000094\n",
       "               2014     1.846779  19456.0      3.492446"
      ]
     },
     "metadata": {
      "tags": []
     },
     "execution_count": 190
    }
   ]
  },
  {
   "cell_type": "markdown",
   "metadata": {
    "id": "fKxoM9k7aL0H"
   },
   "source": [
    "Посмотрим, нет ли аномалий в наших признаках"
   ]
  },
  {
   "cell_type": "code",
   "metadata": {
    "colab": {
     "base_uri": "https://localhost:8080/",
     "height": 611
    },
    "id": "RMHuHwcMaLEV",
    "outputId": "e2f3c114-4fbc-4984-932f-6d604a590f54"
   },
   "source": [
    "plt.figure(figsize=(6, 8))\n",
    "sns.distplot(data_fr.criminality)\n",
    "plt.xlabel('Преступность')\n",
    "print('Mean criminality:', data_fr.criminality.mean())"
   ],
   "execution_count": 191,
   "outputs": [
    {
     "output_type": "stream",
     "text": [
      "/usr/local/lib/python3.6/dist-packages/seaborn/distributions.py:2551: FutureWarning:\n",
      "\n",
      "`distplot` is a deprecated function and will be removed in a future version. Please adapt your code to use either `displot` (a figure-level function with similar flexibility) or `histplot` (an axes-level function for histograms).\n",
      "\n"
     ],
     "name": "stderr"
    },
    {
     "output_type": "stream",
     "text": [
      "Mean criminality: 1.5400051536536594\n"
     ],
     "name": "stdout"
    },
    {
     "output_type": "display_data",
     "data": {
      "image/png": "[encoded data removed]",
      "text/plain": [
       "<Figure size 432x576 with 1 Axes>"
      ]
     },
     "metadata": {
      "tags": []
     }
    }
   ]
  },
  {
   "cell_type": "code",
   "metadata": {
    "colab": {
     "base_uri": "https://localhost:8080/",
     "height": 622
    },
    "id": "zu_5TIMoaWWW",
    "outputId": "a8c59242-559e-4250-ee08-35017fb04e74"
   },
   "source": [
    "plt.figure(figsize=(6, 8))\n",
    "sns.distplot(data_fr.salary)\n",
    "plt.xlabel('Заработок')\n",
    "print('Mean criminality:', data_fr.salary.mean())"
   ],
   "execution_count": 192,
   "outputs": [
    {
     "output_type": "stream",
     "text": [
      "/usr/local/lib/python3.6/dist-packages/seaborn/distributions.py:2551: FutureWarning:\n",
      "\n",
      "`distplot` is a deprecated function and will be removed in a future version. Please adapt your code to use either `displot` (a figure-level function with similar flexibility) or `histplot` (an axes-level function for histograms).\n",
      "\n"
     ],
     "name": "stderr"
    },
    {
     "output_type": "stream",
     "text": [
      "Mean criminality: 29186.401463414615\n"
     ],
     "name": "stdout"
    },
    {
     "output_type": "display_data",
     "data": {
      "image/png": "[encoded data removed]",
      "text/plain": [
       "<Figure size 432x576 with 1 Axes>"
      ]
     },
     "metadata": {
      "tags": []
     }
    }
   ]
  },
  {
   "cell_type": "code",
   "metadata": {
    "colab": {
     "base_uri": "https://localhost:8080/",
     "height": 611
    },
    "id": "RASgyig4agxB",
    "outputId": "ed37b60e-4b56-46ba-e554-f20ef566dfa4"
   },
   "source": [
    "plt.figure(figsize=(6, 8))\n",
    "sns.distplot(data_fr.unemployment)\n",
    "plt.xlabel('Безработица')\n",
    "print('Mean criminality:', data_fr.unemployment.mean())"
   ],
   "execution_count": 193,
   "outputs": [
    {
     "output_type": "stream",
     "text": [
      "/usr/local/lib/python3.6/dist-packages/seaborn/distributions.py:2551: FutureWarning:\n",
      "\n",
      "`distplot` is a deprecated function and will be removed in a future version. Please adapt your code to use either `displot` (a figure-level function with similar flexibility) or `histplot` (an axes-level function for histograms).\n",
      "\n"
     ],
     "name": "stderr"
    },
    {
     "output_type": "stream",
     "text": [
      "Mean criminality: 3.604013026384147\n"
     ],
     "name": "stdout"
    },
    {
     "output_type": "display_data",
     "data": {
      "image/png": "[encoded data removed]",
      "text/plain": [
       "<Figure size 432x576 with 1 Axes>"
      ]
     },
     "metadata": {
      "tags": []
     }
    }
   ]
  },
  {
   "cell_type": "code",
   "metadata": {
    "id": "jDQcJJ1peAB3"
   },
   "source": [
    "# нормировка признаков\n",
    "normalizer = preprocessing.StandardScaler()\n",
    "data_fr_normalizer = normalizer.fit_transform(data_fr.drop(columns='criminality'))"
   ],
   "execution_count": 194,
   "outputs": []
  },
  {
   "cell_type": "code",
   "metadata": {
    "colab": {
     "base_uri": "https://localhost:8080/",
     "height": 227
    },
    "id": "knYeMOt1sXrR",
    "outputId": "c5869f8b-1e50-4966-cefa-a24d1cfba850"
   },
   "source": [
    "df_normalized = pd.DataFrame(data_fr_normalizer, columns=data_fr.columns[1:], index=data_fr.index)\n",
    "df_normalized['criminality'] = data_fr['criminality']\n",
    "df_normalized.head()"
   ],
   "execution_count": 195,
   "outputs": [
    {
     "output_type": "execute_result",
     "data": {
      "text/html": [
       "<div>\n",
       "<style scoped>\n",
       "    .dataframe tbody tr th:only-of-type {\n",
       "        vertical-align: middle;\n",
       "    }\n",
       "\n",
       "    .dataframe tbody tr th {\n",
       "        vertical-align: top;\n",
       "    }\n",
       "\n",
       "    .dataframe thead th {\n",
       "        text-align: right;\n",
       "    }\n",
       "</style>\n",
       "<table border=\"1\" class=\"dataframe\">\n",
       "  <thead>\n",
       "    <tr style=\"text-align: right;\">\n",
       "      <th></th>\n",
       "      <th></th>\n",
       "      <th>salary</th>\n",
       "      <th>unemployment</th>\n",
       "      <th>criminality</th>\n",
       "    </tr>\n",
       "    <tr>\n",
       "      <th>region_name</th>\n",
       "      <th>year</th>\n",
       "      <th></th>\n",
       "      <th></th>\n",
       "      <th></th>\n",
       "    </tr>\n",
       "  </thead>\n",
       "  <tbody>\n",
       "    <tr>\n",
       "      <th rowspan=\"5\" valign=\"top\">Алтайский край</th>\n",
       "      <th>2010</th>\n",
       "      <td>-1.266560</td>\n",
       "      <td>0.412598</td>\n",
       "      <td>1.980849</td>\n",
       "    </tr>\n",
       "    <tr>\n",
       "      <th>2011</th>\n",
       "      <td>-1.135593</td>\n",
       "      <td>0.291012</td>\n",
       "      <td>1.862957</td>\n",
       "    </tr>\n",
       "    <tr>\n",
       "      <th>2012</th>\n",
       "      <td>-0.973936</td>\n",
       "      <td>-0.219286</td>\n",
       "      <td>1.752067</td>\n",
       "    </tr>\n",
       "    <tr>\n",
       "      <th>2013</th>\n",
       "      <td>-0.825991</td>\n",
       "      <td>0.170808</td>\n",
       "      <td>1.880157</td>\n",
       "    </tr>\n",
       "    <tr>\n",
       "      <th>2014</th>\n",
       "      <td>-0.719208</td>\n",
       "      <td>-0.048113</td>\n",
       "      <td>1.846779</td>\n",
       "    </tr>\n",
       "  </tbody>\n",
       "</table>\n",
       "</div>"
      ],
      "text/plain": [
       "                       salary  unemployment  criminality\n",
       "region_name    year                                     \n",
       "Алтайский край 2010 -1.266560      0.412598     1.980849\n",
       "               2011 -1.135593      0.291012     1.862957\n",
       "               2012 -0.973936     -0.219286     1.752067\n",
       "               2013 -0.825991      0.170808     1.880157\n",
       "               2014 -0.719208     -0.048113     1.846779"
      ]
     },
     "metadata": {
      "tags": []
     },
     "execution_count": 195
    }
   ]
  },
  {
   "cell_type": "code",
   "metadata": {
    "colab": {
     "base_uri": "https://localhost:8080/",
     "height": 137
    },
    "id": "HbhigistB0fQ",
    "outputId": "cbed5ecf-6386-42ab-b02f-a7cac76a21dc"
   },
   "source": [
    "df_normalized.corr()"
   ],
   "execution_count": 196,
   "outputs": [
    {
     "output_type": "execute_result",
     "data": {
      "text/html": [
       "<div>\n",
       "<style scoped>\n",
       "    .dataframe tbody tr th:only-of-type {\n",
       "        vertical-align: middle;\n",
       "    }\n",
       "\n",
       "    .dataframe tbody tr th {\n",
       "        vertical-align: top;\n",
       "    }\n",
       "\n",
       "    .dataframe thead th {\n",
       "        text-align: right;\n",
       "    }\n",
       "</style>\n",
       "<table border=\"1\" class=\"dataframe\">\n",
       "  <thead>\n",
       "    <tr style=\"text-align: right;\">\n",
       "      <th></th>\n",
       "      <th>salary</th>\n",
       "      <th>unemployment</th>\n",
       "      <th>criminality</th>\n",
       "    </tr>\n",
       "  </thead>\n",
       "  <tbody>\n",
       "    <tr>\n",
       "      <th>salary</th>\n",
       "      <td>1.000000</td>\n",
       "      <td>-0.173085</td>\n",
       "      <td>0.117970</td>\n",
       "    </tr>\n",
       "    <tr>\n",
       "      <th>unemployment</th>\n",
       "      <td>-0.173085</td>\n",
       "      <td>1.000000</td>\n",
       "      <td>-0.099194</td>\n",
       "    </tr>\n",
       "    <tr>\n",
       "      <th>criminality</th>\n",
       "      <td>0.117970</td>\n",
       "      <td>-0.099194</td>\n",
       "      <td>1.000000</td>\n",
       "    </tr>\n",
       "  </tbody>\n",
       "</table>\n",
       "</div>"
      ],
      "text/plain": [
       "                salary  unemployment  criminality\n",
       "salary        1.000000     -0.173085     0.117970\n",
       "unemployment -0.173085      1.000000    -0.099194\n",
       "criminality   0.117970     -0.099194     1.000000"
      ]
     },
     "metadata": {
      "tags": []
     },
     "execution_count": 196
    }
   ]
  },
  {
   "cell_type": "markdown",
   "metadata": {
    "id": "bXTWk710-IqB"
   },
   "source": [
    "Можно заметить слабую корреляцию данных, наврядли мы сможем получить что-нибудь хорошее из них"
   ]
  },
  {
   "cell_type": "markdown",
   "metadata": {
    "id": "O4MXz9WUG65N"
   },
   "source": [
    "### Линейная регрессия (версия 1)"
   ]
  },
  {
   "cell_type": "markdown",
   "metadata": {
    "id": "nXj2Sns-Hi7n"
   },
   "source": [
    "Обучение модели. Разбиваем на обучающую и тренировочную, настраиваем параметры\n",
    "Смотрим на валидации, что с переобучением"
   ]
  },
  {
   "cell_type": "code",
   "metadata": {
    "id": "xU-vCKvTHvXN"
   },
   "source": [
    "# разбиваем выборку на независимые переменные и целевую\n",
    "Y_data = df_normalized.criminality\n",
    "X_data = df_normalized[['unemployment', 'salary']]\n",
    "\n",
    "X_train, X_test, y_train, y_test = train_test_split(X_data, Y_data, test_size=0.2, random_state=16)"
   ],
   "execution_count": 197,
   "outputs": []
  },
  {
   "cell_type": "code",
   "metadata": {
    "id": "Dmj8SyW58iP4"
   },
   "source": [
    "model_regr = LinearRegression()\n",
    "model_regr.fit(X_train, y_train)\n",
    "y_test_pred = model_regr.predict(X_test)"
   ],
   "execution_count": 198,
   "outputs": []
  },
  {
   "cell_type": "code",
   "metadata": {
    "colab": {
     "base_uri": "https://localhost:8080/"
    },
    "id": "RcbV9lqEIBXi",
    "outputId": "0a90efbd-3543-4a72-88a0-c33af9489c15"
   },
   "source": [
    "print(\"Test R2: \", r2_score(y_test, y_test_pred))\n",
    "print('Model intercept: ', model_regr.intercept_)\n",
    "print('Model coefficients: ', model_regr.coef_)\n",
    "print('MSE: ', mean_squared_error(y_test, y_test_pred))"
   ],
   "execution_count": 199,
   "outputs": [
    {
     "output_type": "stream",
     "text": [
      "Test R2:  0.006382177684828516\n",
      "Model intercept:  1.5341167621775644\n",
      "Model coefficients:  [-0.04051499  0.06298506]\n",
      "MSE:  0.3234543565603386\n"
     ],
     "name": "stdout"
    }
   ]
  },
  {
   "cell_type": "markdown",
   "metadata": {
    "id": "fzXce1qCJxtT"
   },
   "source": [
    "По нашей метрике R2 нельзя сказать, что модель является адекватной, но это ожидаемо при отсутствии корреляции между нашими данными"
   ]
  },
  {
   "cell_type": "code",
   "metadata": {
    "colab": {
     "base_uri": "https://localhost:8080/",
     "height": 374
    },
    "id": "j1W_P3KjIQ9u",
    "outputId": "f5d3af8d-19bd-4754-b109-b64559c49a4f"
   },
   "source": [
    "# построим и глянем, что у нас получилось\n",
    "\n",
    "xx, yy =  np.meshgrid(X_test['unemployment'].values, X_test['salary'].values)\n",
    "model_viz = np.array([xx.flatten(), yy.flatten()]).T\n",
    "\n",
    "y_test_pred_vis = model_regr.predict(model_viz)\n",
    "\n",
    "##########################################################################\n",
    "\n",
    "\n",
    "plt.figure(figsize(6, 6))\n",
    "fig = plt.figure()\n",
    "ax = fig.add_subplot(111, projection=\"3d\")\n",
    "\n",
    "ax.scatter(xs=xx.flatten(), ys=yy.flatten(), label='model data',\n",
    "           zs=y_test_pred_vis, facecolor=(0,0,0,0), s=10, edgecolor='#70b3f0')\n",
    "\n",
    "ax.scatter(xs=X_test['unemployment'], ys=X_test['salary'], zs=y_test, \n",
    "           color='k', zorder=15, marker='o', alpha=0.5, label='real data')\n",
    "\n",
    "ax.locator_params(nbins=4, axis='x')\n",
    "ax.locator_params(nbins=5, axis='x')\n",
    "\n",
    "ax.set_xlabel('Безработица')\n",
    "ax.set_ylabel('Средний доход')\n",
    "ax.set_zlabel('Преступность')\n",
    "ax.legend()\n",
    "\n",
    "ax.view_init(elev=27, azim=112)\n"
   ],
   "execution_count": 200,
   "outputs": [
    {
     "output_type": "display_data",
     "data": {
      "text/plain": [
       "<Figure size 432x432 with 0 Axes>"
      ]
     },
     "metadata": {
      "tags": []
     }
    },
    {
     "output_type": "display_data",
     "data": {
      "image/png": "[encoded data removed]",
      "text/plain": [
       "<Figure size 432x432 with 1 Axes>"
      ]
     },
     "metadata": {
      "tags": []
     }
    }
   ]
  },
  {
   "cell_type": "markdown",
   "metadata": {
    "id": "45xTSHrlN1yz"
   },
   "source": [
    "В целом, что и показывает нам наша метрика R2. Описать мы смогли нашу модель не очень хорошо, очень малая часть дисперсии нами описана"
   ]
  },
  {
   "cell_type": "code",
   "metadata": {
    "colab": {
     "base_uri": "https://localhost:8080/"
    },
    "id": "NUGTRLViI-Ue",
    "outputId": "7302a898-13c4-4ec1-9688-4617c89017f4"
   },
   "source": [
    "# проверим на переобучение\n",
    "kfold = KFold(n_splits=10, random_state=16)\n",
    "cross_val_score_train = cross_val_score(model_regr, X_train, y_train, cv=kfold, scoring='neg_mean_squared_error')\n",
    "print('array MSE: ', cross_val_score_train)\n",
    "print('test MSE: ', mean_squared_error(y_test, y_test_pred))\n",
    "print('test MSE mean: ', cross_val_score_train.mean())"
   ],
   "execution_count": 201,
   "outputs": [
    {
     "output_type": "stream",
     "text": [
      "array MSE:  [-0.36971251 -0.26719714 -0.24479102 -0.26230501 -0.25870989 -0.23070087\n",
      " -0.24064463 -0.31280572 -0.28603814 -0.26007998]\n",
      "test MSE:  0.3234543565603386\n",
      "test MSE mean:  -0.27329849019787245\n"
     ],
     "name": "stdout"
    },
    {
     "output_type": "stream",
     "text": [
      "/usr/local/lib/python3.6/dist-packages/sklearn/model_selection/_split.py:296: FutureWarning:\n",
      "\n",
      "Setting a random_state has no effect since shuffle is False. This will raise an error in 0.24. You should leave random_state to its default (None), or set shuffle=True.\n",
      "\n"
     ],
     "name": "stderr"
    }
   ]
  },
  {
   "cell_type": "markdown",
   "metadata": {
    "id": "CSNTEWQzJYQC"
   },
   "source": [
    "Все хорошо, мы не переобучились, ошибка на наших данных больше, чем на валидационной выборке. Хотя в целом, с трудом верится, что на этой модели было реально переобучиться)"
   ]
  },
  {
   "cell_type": "markdown",
   "metadata": {
    "id": "mff6kVxokow5"
   },
   "source": [
    "Посмотрим, как вообще распределена наша ошибка. Покажем, что она не похожа на нормальную"
   ]
  },
  {
   "cell_type": "code",
   "metadata": {
    "id": "E9B7XqAnkoIa"
   },
   "source": [
    "D_fr_distr = df_normalized.reset_index()\n",
    "X_train_distr = D_fr_distr[D_fr_distr.year != 2019][['unemployment', 'unemployment']]\n",
    "X_test_distr = D_fr_distr[D_fr_distr.year == 2019][['unemployment', 'unemployment']]\n",
    "\n",
    "Y_train_distr = D_fr_distr[D_fr_distr.year != 2019]['salary']\n",
    "Y_test_distr = D_fr_distr[D_fr_distr.year == 2019]['salary']\n",
    "\n",
    "model_regr_distr = LinearRegression()\n",
    "model_regr_distr.fit(X_train_distr, Y_train_distr)\n",
    "y_test_pred_distr = model_regr_distr.predict(X_test_distr)"
   ],
   "execution_count": 202,
   "outputs": []
  },
  {
   "cell_type": "code",
   "metadata": {
    "colab": {
     "base_uri": "https://localhost:8080/",
     "height": 520
    },
    "id": "_9a6fmKSkyLl",
    "outputId": "786744a3-459e-430a-ad60-d5c905638741"
   },
   "source": [
    "model_error =(Y_test_distr - y_test_pred_distr)**2\n",
    "\n",
    "plt.figure(figsize=(6, 8))\n",
    "plt.hist(model_error)\n",
    "plt.xlabel('распределение ошибки')"
   ],
   "execution_count": 203,
   "outputs": [
    {
     "output_type": "execute_result",
     "data": {
      "text/plain": [
       "Text(0.5, 0, 'распределение ошибки')"
      ]
     },
     "metadata": {
      "tags": []
     },
     "execution_count": 203
    },
    {
     "output_type": "display_data",
     "data": {
      "image/png": "[encoded data removed]",
      "text/plain": [
       "<Figure size 432x576 with 1 Axes>"
      ]
     },
     "metadata": {
      "tags": []
     }
    }
   ]
  },
  {
   "cell_type": "markdown",
   "metadata": {
    "id": "Gb64aJwY9v7J"
   },
   "source": [
    "Посмотрим зависимость уровня преступности от среднего дохода\n",
    "и зависимость преступности от безработицы в регионах России за 10 лет"
   ]
  },
  {
   "cell_type": "code",
   "metadata": {
    "id": "o4Y0CxmFm8SQ"
   },
   "source": [
    "visual_arr = np.vstack((X_test.salary.values, y_test_pred)).T\n",
    "visual_arr_sort = visual_arr[np.lexsort(np.fliplr(visual_arr).T)]"
   ],
   "execution_count": 204,
   "outputs": []
  },
  {
   "cell_type": "code",
   "metadata": {
    "colab": {
     "base_uri": "https://localhost:8080/",
     "height": 284
    },
    "id": "xolAOTkS8ibc",
    "outputId": "8033a325-6b0f-40ee-ee25-396fb42a0222"
   },
   "source": [
    "plt.figure(figsize(6, 4))\n",
    "plt.scatter(X_test.salary, y_test)\n",
    "\n",
    "model_y = model_regr.intercept_ + model_regr.coef_[1] * visual_arr_sort[:, 0]\n",
    "plt.plot(visual_arr_sort[:, 0], model_y, c='red')\n",
    "\n",
    "plt.xlabel('Средний доход')\n",
    "plt.ylabel('Уровень преступности')\n",
    "plt.show()"
   ],
   "execution_count": 205,
   "outputs": [
    {
     "output_type": "display_data",
     "data": {
      "image/png": "[encoded data removed]",
      "text/plain": [
       "<Figure size 432x288 with 1 Axes>"
      ]
     },
     "metadata": {
      "tags": []
     }
    }
   ]
  },
  {
   "cell_type": "markdown",
   "metadata": {
    "id": "LFuitPC2KllN"
   },
   "source": [
    "Ну здесь в целом все понятно. У нас есть города, где доход маленький, а его рост соответсвует малому доходу в других регинах (например Москве)"
   ]
  },
  {
   "cell_type": "code",
   "metadata": {
    "id": "tR1HMcjE9xiD"
   },
   "source": [
    "visual_arr = np.vstack((X_test.unemployment.values, y_test_pred)).T\n",
    "visual_arr_sort = visual_arr[np.lexsort(np.fliplr(visual_arr).T)]"
   ],
   "execution_count": 206,
   "outputs": []
  },
  {
   "cell_type": "code",
   "metadata": {
    "colab": {
     "base_uri": "https://localhost:8080/",
     "height": 284
    },
    "id": "lB9nzN_U8ie1",
    "outputId": "a24c5bca-ddf2-43a6-faab-687c4cc4efda"
   },
   "source": [
    "plt.figure(figsize(6,4))\n",
    "plt.scatter(X_test.unemployment, y_test)\n",
    "\n",
    "model_y = model_regr.intercept_ + model_regr.coef_[0] * visual_arr_sort[:, 0]\n",
    "plt.plot(visual_arr_sort[:, 0], model_y, c='red')\n",
    "\n",
    "plt.xlabel('Уровень безработицы')\n",
    "plt.ylabel('Уровень преступности')\n",
    "plt.show()"
   ],
   "execution_count": 207,
   "outputs": [
    {
     "output_type": "display_data",
     "data": {
      "image/png": "[encoded data removed]",
      "text/plain": [
       "<Figure size 432x288 with 1 Axes>"
      ]
     },
     "metadata": {
      "tags": []
     }
    }
   ]
  },
  {
   "cell_type": "markdown",
   "metadata": {
    "id": "8oORnIA8ORUN"
   },
   "source": [
    "Здесь все бы ничего, но у нас жуткие аномалии есть. Скорее всего они связаны с экономическим кризисом в стране. Если пофильтровать наши данные, то скорее всего станет получше"
   ]
  },
  {
   "cell_type": "markdown",
   "metadata": {
    "id": "dnpiTwp9VqaH"
   },
   "source": [
    "### Вывод по модели 1\n",
    "\n",
    "Беккер утверждает, что изначальный уровень среднего заработка и безработица влияют на фактор образования преступности.\n",
    "\n",
    "* Текущие данные имеют высокую дисперсию. На основе текущей информации трудно о чем-то согласиться с Беккером, несмотря на его авторитет)\n",
    "\n",
    "* Средний заработок на текущий момент не несет информативности.\n",
    "Это связано с тем, что в разных регионах средний заработок существенно отличается.\n",
    "\n",
    "* Безработица тоже не несет полезной информации, там имеются в целом аномальные выбросы. Скорее всего они связаны с экономическим кризисом в стране.\n",
    "\n",
    "* Наши показатели по модели:\n",
    "1.   Test R2:  0.006382177684828516\n",
    "2.   MSE:  0.3234543565603386\n"
   ]
  },
  {
   "cell_type": "markdown",
   "metadata": {
    "id": "QqfB0Pe-LCva"
   },
   "source": [
    "### Линейная регрессия (2 версия)"
   ]
  },
  {
   "cell_type": "markdown",
   "metadata": {
    "id": "YmyF4Vyo870m"
   },
   "source": [
    "А теперь попробуем настроить нашу модель с точки зрения того, что мы имеем дело с временным рядом. Здесь выполним прогнозирование по России."
   ]
  },
  {
   "cell_type": "code",
   "metadata": {
    "id": "QU11ZFkmmRpA"
   },
   "source": [
    "# сгруппируем наши данные по годам и усредним нашу выборку по регионам\n",
    "X_data_year = pd.pivot_table(df_normalized, values=['unemployment', 'salary', 'criminality'], index=['year'],\n",
    "                               aggfunc=mean).reset_index()"
   ],
   "execution_count": 208,
   "outputs": []
  },
  {
   "cell_type": "code",
   "metadata": {
    "id": "lLQb9UmV8PxO",
    "colab": {
     "base_uri": "https://localhost:8080/",
     "height": 301
    },
    "outputId": "1dc386a2-0a89-46dc-a475-e1659cb3aef2"
   },
   "source": [
    "plt.figure(figsize(6,4 ))\n",
    "plt.plot(X_data_year.salary, X_data_year.criminality)\n",
    "plt.xlabel('средний доход')\n",
    "plt.ylabel('преступность')\n",
    "plt.title('усреднение по регионам')\n",
    "plt.show()"
   ],
   "execution_count": 209,
   "outputs": [
    {
     "output_type": "display_data",
     "data": {
      "image/png": "[encoded data removed]",
      "text/plain": [
       "<Figure size 432x288 with 1 Axes>"
      ]
     },
     "metadata": {
      "tags": []
     }
    }
   ]
  },
  {
   "cell_type": "code",
   "metadata": {
    "colab": {
     "base_uri": "https://localhost:8080/",
     "height": 301
    },
    "id": "cnbJ7kwBQkrO",
    "outputId": "2acdba71-3b38-40c8-8de1-c26345230b1e"
   },
   "source": [
    "visual_arr = np.vstack((X_data_year.unemployment.values, X_data_year.criminality)).T\n",
    "visual_arr_sort = visual_arr[np.lexsort(np.fliplr(visual_arr).T)]\n",
    "\n",
    "plt.figure(figsize(6,4 ))\n",
    "plt.plot(visual_arr_sort[:, 0], visual_arr_sort[:, 1])\n",
    "plt.xlabel('безработица')\n",
    "plt.ylabel('преступность')\n",
    "plt.title('усреднение по регионам')\n",
    "plt.show()"
   ],
   "execution_count": 210,
   "outputs": [
    {
     "output_type": "display_data",
     "data": {
      "image/png": "[encoded data removed]",
      "text/plain": [
       "<Figure size 432x288 with 1 Axes>"
      ]
     },
     "metadata": {
      "tags": []
     }
    }
   ]
  },
  {
   "cell_type": "code",
   "metadata": {
    "colab": {
     "base_uri": "https://localhost:8080/",
     "height": 137
    },
    "id": "GM2ferTiF_3I",
    "outputId": "b6e1b5f4-4be6-41ba-b85f-a36a4fa9ff9a"
   },
   "source": [
    "X_data_year[['criminality', 'salary', 'unemployment']].corr()"
   ],
   "execution_count": 211,
   "outputs": [
    {
     "output_type": "execute_result",
     "data": {
      "text/html": [
       "<div>\n",
       "<style scoped>\n",
       "    .dataframe tbody tr th:only-of-type {\n",
       "        vertical-align: middle;\n",
       "    }\n",
       "\n",
       "    .dataframe tbody tr th {\n",
       "        vertical-align: top;\n",
       "    }\n",
       "\n",
       "    .dataframe thead th {\n",
       "        text-align: right;\n",
       "    }\n",
       "</style>\n",
       "<table border=\"1\" class=\"dataframe\">\n",
       "  <thead>\n",
       "    <tr style=\"text-align: right;\">\n",
       "      <th></th>\n",
       "      <th>criminality</th>\n",
       "      <th>salary</th>\n",
       "      <th>unemployment</th>\n",
       "    </tr>\n",
       "  </thead>\n",
       "  <tbody>\n",
       "    <tr>\n",
       "      <th>criminality</th>\n",
       "      <td>1.000000</td>\n",
       "      <td>-0.826781</td>\n",
       "      <td>0.894527</td>\n",
       "    </tr>\n",
       "    <tr>\n",
       "      <th>salary</th>\n",
       "      <td>-0.826781</td>\n",
       "      <td>1.000000</td>\n",
       "      <td>-0.911747</td>\n",
       "    </tr>\n",
       "    <tr>\n",
       "      <th>unemployment</th>\n",
       "      <td>0.894527</td>\n",
       "      <td>-0.911747</td>\n",
       "      <td>1.000000</td>\n",
       "    </tr>\n",
       "  </tbody>\n",
       "</table>\n",
       "</div>"
      ],
      "text/plain": [
       "              criminality    salary  unemployment\n",
       "criminality      1.000000 -0.826781      0.894527\n",
       "salary          -0.826781  1.000000     -0.911747\n",
       "unemployment     0.894527 -0.911747      1.000000"
      ]
     },
     "metadata": {
      "tags": []
     },
     "execution_count": 211
    }
   ]
  },
  {
   "cell_type": "markdown",
   "metadata": {
    "id": "zLgkGP9JPttC"
   },
   "source": [
    "Видим, что преступность уменьшается при увеличении среднего дохода и уменьшении безработицы. Возможно Беккер прав"
   ]
  },
  {
   "cell_type": "markdown",
   "metadata": {
    "id": "Qz84_OEDdo9_"
   },
   "source": [
    "Обучение модели"
   ]
  },
  {
   "cell_type": "code",
   "metadata": {
    "id": "aKWVH2O08iM1",
    "colab": {
     "base_uri": "https://localhost:8080/"
    },
    "outputId": "0b96f905-20d0-491b-c44e-2bdaaee081a8"
   },
   "source": [
    "# валидация\n",
    "\n",
    "# разбиваем выборку на независимые переменные и целевую\n",
    "y_train = X_data_year['criminality'].head(9)\n",
    "X_train = X_data_year[['salary', 'unemployment']].head(9)\n",
    "\n",
    "tscv = TimeSeriesSplit(max_train_size = None, n_splits = 5)\n",
    "\n",
    "model_regr = LinearRegression()\n",
    "cv_scores = cross_val_score(model_regr, X_train, y_train, cv=tscv,\n",
    "                                 scoring = 'neg_mean_squared_error')\n",
    "  \n",
    "print(\"Test MSE: \", mean(cv_scores))"
   ],
   "execution_count": 212,
   "outputs": [
    {
     "output_type": "stream",
     "text": [
      "Test MSE:  -0.011273546492685608\n"
     ],
     "name": "stdout"
    }
   ]
  },
  {
   "cell_type": "code",
   "metadata": {
    "id": "kgXZXwxc8CdF",
    "colab": {
     "base_uri": "https://localhost:8080/"
    },
    "outputId": "169f1e40-a39a-48f7-8a5d-c01042c6cb1b"
   },
   "source": [
    "# обучим модель\n",
    "\n",
    "# разбиваем выборку на независимые переменные и целевую\n",
    "y_train = X_data_year['criminality'].head(9)\n",
    "X_train = X_data_year[['salary', 'unemployment']].head(9)\n",
    "\n",
    "y_test = X_data_year['criminality'].tail(1)\n",
    "X_test = X_data_year[['salary', 'unemployment']].tail(1)\n",
    "\n",
    "model_regr = LinearRegression()\n",
    "\n",
    "model_regr.fit(X_train, y_train)\n",
    "y_test_pred = model_regr.predict(X_test)\n",
    "\n",
    "print(\"Test MSE: \", mean_squared_error(y_test, y_test_pred))"
   ],
   "execution_count": 214,
   "outputs": [
    {
     "output_type": "stream",
     "text": [
      "Test MSE:  0.0013807387138489505\n"
     ],
     "name": "stdout"
    }
   ]
  },
  {
   "cell_type": "markdown",
   "metadata": {
    "id": "h_nyMGTAVC5Q"
   },
   "source": [
    "Посмотрим, что же прогнозирует наш временной ряд в данном случае"
   ]
  },
  {
   "cell_type": "code",
   "metadata": {
    "colab": {
     "base_uri": "https://localhost:8080/",
     "height": 301
    },
    "id": "ZVu_w4ZLTFUF",
    "outputId": "3b16c081-b807-4c7a-e527-0811bc962627"
   },
   "source": [
    "Y_pred = np.concatenate((y_train, y_test_pred), axis=0)\n",
    "\n",
    "plt.figure(figsize(6,4 ))\n",
    "plt.plot(X_data_year['salary'], X_data_year['criminality'], label='real data', c = 'green')\n",
    "plt.plot(X_data_year['salary'], Y_pred, c = 'red', label='model data')\n",
    "plt.xlabel('средний доход')\n",
    "plt.ylabel('преступность')\n",
    "plt.title('усреднение по регионам')\n",
    "plt.legend()\n",
    "plt.show()"
   ],
   "execution_count": 215,
   "outputs": [
    {
     "output_type": "display_data",
     "data": {
      "image/png": "[encoded data removed]",
      "text/plain": [
       "<Figure size 432x288 with 1 Axes>"
      ]
     },
     "metadata": {
      "tags": []
     }
    }
   ]
  },
  {
   "cell_type": "markdown",
   "metadata": {
    "id": "q9pqEvn5GIcQ"
   },
   "source": [
    "Пожалуй оставим так. Как можно увидеть, если рассматривать выборку, как временной ряд, то модель ведет себя адекватнее"
   ]
  },
  {
   "cell_type": "markdown",
   "metadata": {
    "id": "ur9h6BGPKShH"
   },
   "source": [
    "### Вывод по модели 2\n",
    "\n",
    "* В целом Беккер прав. На основе текущей модели с ним можно согласиться.\n",
    "\n",
    "* Рост среднего заработка действительно связан со спадом перступности. \n",
    "\n",
    "* В случае уменьшения безработницы преступность тоже уменьшается.\n",
    "\n",
    "* Наши показатели по модели:\n",
    "1.   Test MSE:  -0.011273546492685608\n"
   ]
  },
  {
   "cell_type": "markdown",
   "metadata": {
    "id": "zFUbzQcBoFeO"
   },
   "source": [
    "# User model"
   ]
  },
  {
   "cell_type": "markdown",
   "metadata": {
    "id": "FWWAGVUtOwZj"
   },
   "source": [
    "Теперь попроубем сделать нашу модель лучше"
   ]
  },
  {
   "cell_type": "markdown",
   "metadata": {
    "id": "or2K5A3QO1CJ"
   },
   "source": [
    "### Загрузка и просмотр данных"
   ]
  },
  {
   "cell_type": "markdown",
   "metadata": {
    "id": "QEy4XGtbXCUi"
   },
   "source": [
    "Добавим в нашу модель новые данные:\n",
    "* ***Прожиточный минимум*** - процент населения, прожиточный минимум которых ниже установленного.\n",
    "* ***Процент раскрытых преступлений***  - можно оценить вероятность того, что человек решится на преступление.\n",
    "* Попытаемся понять характер аномалий в выборке безработицы и исключить их в случае малой информативности."
   ]
  },
  {
   "cell_type": "code",
   "metadata": {
    "id": "F4mjgDChodLa"
   },
   "source": [
    "data_fr_user = pd.read_csv(\"data_final_user.csv\", sep=';', index_col=[0, 1], decimal=\",\")"
   ],
   "execution_count": 216,
   "outputs": []
  },
  {
   "cell_type": "code",
   "metadata": {
    "id": "MshmBzfqodLa"
   },
   "source": [
    "data_fr_user.rename(columns={\"unemployee\": \"unemployment\"}, inplace=True)"
   ],
   "execution_count": 217,
   "outputs": []
  },
  {
   "cell_type": "code",
   "metadata": {
    "colab": {
     "base_uri": "https://localhost:8080/",
     "height": 227
    },
    "id": "BY0kw90FodLa",
    "outputId": "f5e0b739-49dd-4606-812b-bbdb0bab3901"
   },
   "source": [
    "data_fr_user.head(5)"
   ],
   "execution_count": 218,
   "outputs": [
    {
     "output_type": "execute_result",
     "data": {
      "text/html": [
       "<div>\n",
       "<style scoped>\n",
       "    .dataframe tbody tr th:only-of-type {\n",
       "        vertical-align: middle;\n",
       "    }\n",
       "\n",
       "    .dataframe tbody tr th {\n",
       "        vertical-align: top;\n",
       "    }\n",
       "\n",
       "    .dataframe thead th {\n",
       "        text-align: right;\n",
       "    }\n",
       "</style>\n",
       "<table border=\"1\" class=\"dataframe\">\n",
       "  <thead>\n",
       "    <tr style=\"text-align: right;\">\n",
       "      <th></th>\n",
       "      <th></th>\n",
       "      <th>criminality</th>\n",
       "      <th>salary</th>\n",
       "      <th>unemployment</th>\n",
       "      <th>catch_crimes</th>\n",
       "      <th>minimum</th>\n",
       "    </tr>\n",
       "    <tr>\n",
       "      <th>region_name</th>\n",
       "      <th>year</th>\n",
       "      <th></th>\n",
       "      <th></th>\n",
       "      <th></th>\n",
       "      <th></th>\n",
       "      <th></th>\n",
       "    </tr>\n",
       "  </thead>\n",
       "  <tbody>\n",
       "    <tr>\n",
       "      <th rowspan=\"5\" valign=\"top\">Алтайский край</th>\n",
       "      <th>2010</th>\n",
       "      <td>1.980849</td>\n",
       "      <td>12050.7</td>\n",
       "      <td>4.560774</td>\n",
       "      <td>55.507424</td>\n",
       "      <td>17.57</td>\n",
       "    </tr>\n",
       "    <tr>\n",
       "      <th>2011</th>\n",
       "      <td>1.862957</td>\n",
       "      <td>13822.6</td>\n",
       "      <td>4.278832</td>\n",
       "      <td>56.223854</td>\n",
       "      <td>17.57</td>\n",
       "    </tr>\n",
       "    <tr>\n",
       "      <th>2012</th>\n",
       "      <td>1.752067</td>\n",
       "      <td>16009.7</td>\n",
       "      <td>3.095519</td>\n",
       "      <td>56.904660</td>\n",
       "      <td>17.57</td>\n",
       "    </tr>\n",
       "    <tr>\n",
       "      <th>2013</th>\n",
       "      <td>1.880157</td>\n",
       "      <td>18011.3</td>\n",
       "      <td>4.000094</td>\n",
       "      <td>55.132818</td>\n",
       "      <td>17.60</td>\n",
       "    </tr>\n",
       "    <tr>\n",
       "      <th>2014</th>\n",
       "      <td>1.846779</td>\n",
       "      <td>19456.0</td>\n",
       "      <td>3.492446</td>\n",
       "      <td>56.157021</td>\n",
       "      <td>17.10</td>\n",
       "    </tr>\n",
       "  </tbody>\n",
       "</table>\n",
       "</div>"
      ],
      "text/plain": [
       "                     criminality   salary  unemployment  catch_crimes  minimum\n",
       "region_name    year                                                           \n",
       "Алтайский край 2010     1.980849  12050.7      4.560774     55.507424    17.57\n",
       "               2011     1.862957  13822.6      4.278832     56.223854    17.57\n",
       "               2012     1.752067  16009.7      3.095519     56.904660    17.57\n",
       "               2013     1.880157  18011.3      4.000094     55.132818    17.60\n",
       "               2014     1.846779  19456.0      3.492446     56.157021    17.10"
      ]
     },
     "metadata": {
      "tags": []
     },
     "execution_count": 218
    }
   ]
  },
  {
   "cell_type": "markdown",
   "metadata": {
    "id": "BkLPoFZ0sw_y"
   },
   "source": [
    "Посмотрим на распределение новых данных"
   ]
  },
  {
   "cell_type": "code",
   "metadata": {
    "colab": {
     "base_uri": "https://localhost:8080/",
     "height": 611
    },
    "id": "q9_niJAsodLb",
    "outputId": "caa5871c-1d28-49a6-8425-bc446299a128"
   },
   "source": [
    "plt.figure(figsize=(6, 8))\n",
    "sns.distplot(data_fr_user.minimum)\n",
    "plt.xlabel('Прожиточный минимум')\n",
    "print('Mean minimum:', data_fr_user.minimum.mean())"
   ],
   "execution_count": 219,
   "outputs": [
    {
     "output_type": "stream",
     "text": [
      "/usr/local/lib/python3.6/dist-packages/seaborn/distributions.py:2551: FutureWarning:\n",
      "\n",
      "`distplot` is a deprecated function and will be removed in a future version. Please adapt your code to use either `displot` (a figure-level function with similar flexibility) or `histplot` (an axes-level function for histograms).\n",
      "\n"
     ],
     "name": "stderr"
    },
    {
     "output_type": "stream",
     "text": [
      "Mean minimum: 14.612902439024372\n"
     ],
     "name": "stdout"
    },
    {
     "output_type": "display_data",
     "data": {
      "image/png": "[encoded data removed]",
      "text/plain": [
       "<Figure size 432x576 with 1 Axes>"
      ]
     },
     "metadata": {
      "tags": []
     }
    }
   ]
  },
  {
   "cell_type": "code",
   "metadata": {
    "colab": {
     "base_uri": "https://localhost:8080/",
     "height": 611
    },
    "id": "wHpC3-K8odLb",
    "outputId": "77cd9428-e5f3-43e2-c79a-d175d88aee4e"
   },
   "source": [
    "plt.figure(figsize=(6, 8))\n",
    "sns.distplot(data_fr_user.catch_crimes)\n",
    "plt.xlabel('Процент раскрытых преступлений')\n",
    "print('Mean minimum:', data_fr_user.catch_crimes.mean())"
   ],
   "execution_count": 220,
   "outputs": [
    {
     "output_type": "stream",
     "text": [
      "/usr/local/lib/python3.6/dist-packages/seaborn/distributions.py:2551: FutureWarning:\n",
      "\n",
      "`distplot` is a deprecated function and will be removed in a future version. Please adapt your code to use either `displot` (a figure-level function with similar flexibility) or `histplot` (an axes-level function for histograms).\n",
      "\n"
     ],
     "name": "stderr"
    },
    {
     "output_type": "stream",
     "text": [
      "Mean minimum: 49.300173942707374\n"
     ],
     "name": "stdout"
    },
    {
     "output_type": "display_data",
     "data": {
      "image/png": "[encoded data removed]",
      "text/plain": [
       "<Figure size 432x576 with 1 Axes>"
      ]
     },
     "metadata": {
      "tags": []
     }
    }
   ]
  },
  {
   "cell_type": "markdown",
   "metadata": {
    "id": "bD2WpFc1rZPV"
   },
   "source": [
    "Теперь проанализируем, почему у нас высокая безработица и низкая преступность имеет аномальное явление"
   ]
  },
  {
   "cell_type": "code",
   "metadata": {
    "colab": {
     "base_uri": "https://localhost:8080/",
     "height": 284
    },
    "id": "k6hIiILIuMCD",
    "outputId": "ea5d92ea-40f5-472b-9b03-5928ef6d4acf"
   },
   "source": [
    "plt.figure(figsize(6, 4))\n",
    "plt.scatter(data_fr_user.unemployment, data_fr_user.criminality)\n",
    "\n",
    "plt.xlabel('Безработица')\n",
    "plt.ylabel('Уровень преступности')\n",
    "plt.show()"
   ],
   "execution_count": 221,
   "outputs": [
    {
     "output_type": "display_data",
     "data": {
      "image/png": "[encoded data removed]",
      "text/plain": [
       "<Figure size 432x288 with 1 Axes>"
      ]
     },
     "metadata": {
      "tags": []
     }
    }
   ]
  },
  {
   "cell_type": "code",
   "metadata": {
    "colab": {
     "base_uri": "https://localhost:8080/",
     "height": 527
    },
    "id": "bgKm3fH7s-ji",
    "outputId": "0a600aed-4eb3-4e99-f75f-f26b01e98eb5"
   },
   "source": [
    "data_fr_user[['unemployment', 'criminality']].sort_values(by=['unemployment', 'criminality'], ascending=False).head(15)"
   ],
   "execution_count": 222,
   "outputs": [
    {
     "output_type": "execute_result",
     "data": {
      "text/html": [
       "<div>\n",
       "<style scoped>\n",
       "    .dataframe tbody tr th:only-of-type {\n",
       "        vertical-align: middle;\n",
       "    }\n",
       "\n",
       "    .dataframe tbody tr th {\n",
       "        vertical-align: top;\n",
       "    }\n",
       "\n",
       "    .dataframe thead th {\n",
       "        text-align: right;\n",
       "    }\n",
       "</style>\n",
       "<table border=\"1\" class=\"dataframe\">\n",
       "  <thead>\n",
       "    <tr style=\"text-align: right;\">\n",
       "      <th></th>\n",
       "      <th></th>\n",
       "      <th>unemployment</th>\n",
       "      <th>criminality</th>\n",
       "    </tr>\n",
       "    <tr>\n",
       "      <th>region_name</th>\n",
       "      <th>year</th>\n",
       "      <th></th>\n",
       "      <th></th>\n",
       "    </tr>\n",
       "  </thead>\n",
       "  <tbody>\n",
       "    <tr>\n",
       "      <th rowspan=\"4\" valign=\"top\">Республика Ингушетия</th>\n",
       "      <th>2012</th>\n",
       "      <td>22.065018</td>\n",
       "      <td>0.410199</td>\n",
       "    </tr>\n",
       "    <tr>\n",
       "      <th>2011</th>\n",
       "      <td>21.752673</td>\n",
       "      <td>0.457505</td>\n",
       "    </tr>\n",
       "    <tr>\n",
       "      <th>2010</th>\n",
       "      <td>21.546781</td>\n",
       "      <td>0.466198</td>\n",
       "    </tr>\n",
       "    <tr>\n",
       "      <th>2013</th>\n",
       "      <td>19.595114</td>\n",
       "      <td>0.390723</td>\n",
       "    </tr>\n",
       "    <tr>\n",
       "      <th rowspan=\"2\" valign=\"top\">Чеченская Республика</th>\n",
       "      <th>2010</th>\n",
       "      <td>18.876202</td>\n",
       "      <td>0.362850</td>\n",
       "    </tr>\n",
       "    <tr>\n",
       "      <th>2011</th>\n",
       "      <td>15.928976</td>\n",
       "      <td>0.330116</td>\n",
       "    </tr>\n",
       "    <tr>\n",
       "      <th>г. Севастополь</th>\n",
       "      <th>2015</th>\n",
       "      <td>15.188485</td>\n",
       "      <td>2.030332</td>\n",
       "    </tr>\n",
       "    <tr>\n",
       "      <th rowspan=\"5\" valign=\"top\">Республика Ингушетия</th>\n",
       "      <th>2016</th>\n",
       "      <td>14.654319</td>\n",
       "      <td>0.375558</td>\n",
       "    </tr>\n",
       "    <tr>\n",
       "      <th>2015</th>\n",
       "      <td>14.551581</td>\n",
       "      <td>0.368967</td>\n",
       "    </tr>\n",
       "    <tr>\n",
       "      <th>2017</th>\n",
       "      <td>13.952864</td>\n",
       "      <td>0.331641</td>\n",
       "    </tr>\n",
       "    <tr>\n",
       "      <th>2014</th>\n",
       "      <td>13.777699</td>\n",
       "      <td>0.354018</td>\n",
       "    </tr>\n",
       "    <tr>\n",
       "      <th>2019</th>\n",
       "      <td>13.572376</td>\n",
       "      <td>0.358404</td>\n",
       "    </tr>\n",
       "    <tr>\n",
       "      <th>Чеченская Республика</th>\n",
       "      <th>2012</th>\n",
       "      <td>13.543632</td>\n",
       "      <td>0.298371</td>\n",
       "    </tr>\n",
       "    <tr>\n",
       "      <th>Республика Ингушетия</th>\n",
       "      <th>2018</th>\n",
       "      <td>13.450114</td>\n",
       "      <td>0.335893</td>\n",
       "    </tr>\n",
       "    <tr>\n",
       "      <th>Чеченская Республика</th>\n",
       "      <th>2013</th>\n",
       "      <td>13.082041</td>\n",
       "      <td>0.272237</td>\n",
       "    </tr>\n",
       "  </tbody>\n",
       "</table>\n",
       "</div>"
      ],
      "text/plain": [
       "                           unemployment  criminality\n",
       "region_name          year                           \n",
       "Республика Ингушетия 2012     22.065018     0.410199\n",
       "                     2011     21.752673     0.457505\n",
       "                     2010     21.546781     0.466198\n",
       "                     2013     19.595114     0.390723\n",
       "Чеченская Республика 2010     18.876202     0.362850\n",
       "                     2011     15.928976     0.330116\n",
       "г. Севастополь       2015     15.188485     2.030332\n",
       "Республика Ингушетия 2016     14.654319     0.375558\n",
       "                     2015     14.551581     0.368967\n",
       "                     2017     13.952864     0.331641\n",
       "                     2014     13.777699     0.354018\n",
       "                     2019     13.572376     0.358404\n",
       "Чеченская Республика 2012     13.543632     0.298371\n",
       "Республика Ингушетия 2018     13.450114     0.335893\n",
       "Чеченская Республика 2013     13.082041     0.272237"
      ]
     },
     "metadata": {
      "tags": []
     },
     "execution_count": 222
    }
   ]
  },
  {
   "cell_type": "markdown",
   "metadata": {
    "id": "7IFWUSgHuzK9"
   },
   "source": [
    "Как мы видим, выбросами являются 2 республики, коррелирующие между собой в системе управления и религии. Попробуем исключить их из нашей выборки. Еще там находится Севастополь, данные о городе отсутствуют отсутствуют в открытом доступе до 2015 года"
   ]
  },
  {
   "cell_type": "code",
   "metadata": {
    "id": "u2gpKl7bvhvS"
   },
   "source": [
    "data_fr_user_correct = data_fr_user.drop(index=['Чеченская Республика', 'Республика Ингушетия', 'г. Севастополь'], level=0)"
   ],
   "execution_count": 223,
   "outputs": []
  },
  {
   "cell_type": "code",
   "metadata": {
    "colab": {
     "base_uri": "https://localhost:8080/",
     "height": 611
    },
    "id": "75BGC6QVvhyH",
    "outputId": "8c05cad6-0f07-4825-a165-d8cf5aa5000f"
   },
   "source": [
    "plt.figure(figsize=(6, 8))\n",
    "sns.distplot(data_fr_user_correct.unemployment)\n",
    "plt.xlabel('Безработица')\n",
    "print('Mean minimum:', data_fr_user_correct.unemployment.mean())"
   ],
   "execution_count": 224,
   "outputs": [
    {
     "output_type": "stream",
     "text": [
      "/usr/local/lib/python3.6/dist-packages/seaborn/distributions.py:2551: FutureWarning:\n",
      "\n",
      "`distplot` is a deprecated function and will be removed in a future version. Please adapt your code to use either `displot` (a figure-level function with similar flexibility) or `histplot` (an axes-level function for histograms).\n",
      "\n"
     ],
     "name": "stderr"
    },
    {
     "output_type": "stream",
     "text": [
      "Mean minimum: 3.2516095890113905\n"
     ],
     "name": "stdout"
    },
    {
     "output_type": "display_data",
     "data": {
      "image/png": "[encoded data removed]",
      "text/plain": [
       "<Figure size 432x576 with 1 Axes>"
      ]
     },
     "metadata": {
      "tags": []
     }
    }
   ]
  },
  {
   "cell_type": "markdown",
   "metadata": {
    "id": "uSm6dO0ey7Oq"
   },
   "source": [
    "Избавились от аномалий, посмотрим, сможет ли это улучшить предиктивность нашей модели"
   ]
  },
  {
   "cell_type": "code",
   "metadata": {
    "id": "3iGrPxbMXXYE"
   },
   "source": [
    "# нормировка признаков\n",
    "normalizer = preprocessing.StandardScaler()\n",
    "data_fr_normalizer = normalizer.fit_transform(data_fr_user_correct.drop(columns='criminality'))"
   ],
   "execution_count": 225,
   "outputs": []
  },
  {
   "cell_type": "code",
   "metadata": {
    "colab": {
     "base_uri": "https://localhost:8080/",
     "height": 227
    },
    "id": "UGcQ_05ZodLc",
    "outputId": "5941ff7f-8511-4fcd-c30c-273bd3a2860a"
   },
   "source": [
    "df_user_norm = pd.DataFrame(data_fr_normalizer, columns=data_fr_user_correct.columns[1:], index=data_fr_user_correct.index)\n",
    "df_user_norm['criminality'] = data_fr_user_correct['criminality']\n",
    "df_user_norm.head()"
   ],
   "execution_count": 226,
   "outputs": [
    {
     "output_type": "execute_result",
     "data": {
      "text/html": [
       "<div>\n",
       "<style scoped>\n",
       "    .dataframe tbody tr th:only-of-type {\n",
       "        vertical-align: middle;\n",
       "    }\n",
       "\n",
       "    .dataframe tbody tr th {\n",
       "        vertical-align: top;\n",
       "    }\n",
       "\n",
       "    .dataframe thead th {\n",
       "        text-align: right;\n",
       "    }\n",
       "</style>\n",
       "<table border=\"1\" class=\"dataframe\">\n",
       "  <thead>\n",
       "    <tr style=\"text-align: right;\">\n",
       "      <th></th>\n",
       "      <th></th>\n",
       "      <th>salary</th>\n",
       "      <th>unemployment</th>\n",
       "      <th>catch_crimes</th>\n",
       "      <th>minimum</th>\n",
       "      <th>criminality</th>\n",
       "    </tr>\n",
       "    <tr>\n",
       "      <th>region_name</th>\n",
       "      <th>year</th>\n",
       "      <th></th>\n",
       "      <th></th>\n",
       "      <th></th>\n",
       "      <th></th>\n",
       "      <th></th>\n",
       "    </tr>\n",
       "  </thead>\n",
       "  <tbody>\n",
       "    <tr>\n",
       "      <th rowspan=\"5\" valign=\"top\">Алтайский край</th>\n",
       "      <th>2010</th>\n",
       "      <td>-1.268369</td>\n",
       "      <td>1.094306</td>\n",
       "      <td>0.721996</td>\n",
       "      <td>0.581758</td>\n",
       "      <td>1.980849</td>\n",
       "    </tr>\n",
       "    <tr>\n",
       "      <th>2011</th>\n",
       "      <td>-1.137396</td>\n",
       "      <td>0.858635</td>\n",
       "      <td>0.803814</td>\n",
       "      <td>0.581758</td>\n",
       "      <td>1.862957</td>\n",
       "    </tr>\n",
       "    <tr>\n",
       "      <th>2012</th>\n",
       "      <td>-0.975732</td>\n",
       "      <td>-0.130474</td>\n",
       "      <td>0.881564</td>\n",
       "      <td>0.581758</td>\n",
       "      <td>1.752067</td>\n",
       "    </tr>\n",
       "    <tr>\n",
       "      <th>2013</th>\n",
       "      <td>-0.827780</td>\n",
       "      <td>0.625644</td>\n",
       "      <td>0.679215</td>\n",
       "      <td>0.587713</td>\n",
       "      <td>1.880157</td>\n",
       "    </tr>\n",
       "    <tr>\n",
       "      <th>2014</th>\n",
       "      <td>-0.720992</td>\n",
       "      <td>0.201310</td>\n",
       "      <td>0.796182</td>\n",
       "      <td>0.488464</td>\n",
       "      <td>1.846779</td>\n",
       "    </tr>\n",
       "  </tbody>\n",
       "</table>\n",
       "</div>"
      ],
      "text/plain": [
       "                       salary  unemployment  ...   minimum  criminality\n",
       "region_name    year                          ...                       \n",
       "Алтайский край 2010 -1.268369      1.094306  ...  0.581758     1.980849\n",
       "               2011 -1.137396      0.858635  ...  0.581758     1.862957\n",
       "               2012 -0.975732     -0.130474  ...  0.581758     1.752067\n",
       "               2013 -0.827780      0.625644  ...  0.587713     1.880157\n",
       "               2014 -0.720992      0.201310  ...  0.488464     1.846779\n",
       "\n",
       "[5 rows x 5 columns]"
      ]
     },
     "metadata": {
      "tags": []
     },
     "execution_count": 226
    }
   ]
  },
  {
   "cell_type": "code",
   "metadata": {
    "colab": {
     "base_uri": "https://localhost:8080/",
     "height": 197
    },
    "id": "qDBzeF3codLc",
    "outputId": "d567ace6-8ecd-490a-bec5-105d2a590ddd"
   },
   "source": [
    "df_user_norm.corr()"
   ],
   "execution_count": 227,
   "outputs": [
    {
     "output_type": "execute_result",
     "data": {
      "text/html": [
       "<div>\n",
       "<style scoped>\n",
       "    .dataframe tbody tr th:only-of-type {\n",
       "        vertical-align: middle;\n",
       "    }\n",
       "\n",
       "    .dataframe tbody tr th {\n",
       "        vertical-align: top;\n",
       "    }\n",
       "\n",
       "    .dataframe thead th {\n",
       "        text-align: right;\n",
       "    }\n",
       "</style>\n",
       "<table border=\"1\" class=\"dataframe\">\n",
       "  <thead>\n",
       "    <tr style=\"text-align: right;\">\n",
       "      <th></th>\n",
       "      <th>salary</th>\n",
       "      <th>unemployment</th>\n",
       "      <th>catch_crimes</th>\n",
       "      <th>minimum</th>\n",
       "      <th>criminality</th>\n",
       "    </tr>\n",
       "  </thead>\n",
       "  <tbody>\n",
       "    <tr>\n",
       "      <th>salary</th>\n",
       "      <td>1.000000</td>\n",
       "      <td>-0.276817</td>\n",
       "      <td>0.000648</td>\n",
       "      <td>-0.199600</td>\n",
       "      <td>0.101776</td>\n",
       "    </tr>\n",
       "    <tr>\n",
       "      <th>unemployment</th>\n",
       "      <td>-0.276817</td>\n",
       "      <td>1.000000</td>\n",
       "      <td>0.306041</td>\n",
       "      <td>0.626470</td>\n",
       "      <td>0.331733</td>\n",
       "    </tr>\n",
       "    <tr>\n",
       "      <th>catch_crimes</th>\n",
       "      <td>0.000648</td>\n",
       "      <td>0.306041</td>\n",
       "      <td>1.000000</td>\n",
       "      <td>0.286819</td>\n",
       "      <td>-0.197853</td>\n",
       "    </tr>\n",
       "    <tr>\n",
       "      <th>minimum</th>\n",
       "      <td>-0.199600</td>\n",
       "      <td>0.626470</td>\n",
       "      <td>0.286819</td>\n",
       "      <td>1.000000</td>\n",
       "      <td>0.181584</td>\n",
       "    </tr>\n",
       "    <tr>\n",
       "      <th>criminality</th>\n",
       "      <td>0.101776</td>\n",
       "      <td>0.331733</td>\n",
       "      <td>-0.197853</td>\n",
       "      <td>0.181584</td>\n",
       "      <td>1.000000</td>\n",
       "    </tr>\n",
       "  </tbody>\n",
       "</table>\n",
       "</div>"
      ],
      "text/plain": [
       "                salary  unemployment  catch_crimes   minimum  criminality\n",
       "salary        1.000000     -0.276817      0.000648 -0.199600     0.101776\n",
       "unemployment -0.276817      1.000000      0.306041  0.626470     0.331733\n",
       "catch_crimes  0.000648      0.306041      1.000000  0.286819    -0.197853\n",
       "minimum      -0.199600      0.626470      0.286819  1.000000     0.181584\n",
       "criminality   0.101776      0.331733     -0.197853  0.181584     1.000000"
      ]
     },
     "metadata": {
      "tags": []
     },
     "execution_count": 227
    }
   ]
  },
  {
   "cell_type": "markdown",
   "metadata": {
    "id": "-H6DGgu_07ZO"
   },
   "source": [
    "* Прожиточный минимум имеет корреляцию с безработицей, интересный факт. Скорее всего это связано с увеличением количества людей, живущих на пособии\n",
    "* В целом, сейчас корреляция между нашими независимыми переменными и целевой стала существеннее\n"
   ]
  },
  {
   "cell_type": "code",
   "metadata": {
    "id": "qFAuiemw7dts"
   },
   "source": [
    "# сгруппируем наши данные по годам и усредним нашу выборку по регионам\n",
    "X_data_year = pd.pivot_table(df_user_norm, values=['unemployment', 'salary', 'criminality', 'catch_crimes', 'minimum'], index=['year'],\n",
    "                               aggfunc=mean).reset_index()"
   ],
   "execution_count": 228,
   "outputs": []
  },
  {
   "cell_type": "code",
   "metadata": {
    "colab": {
     "base_uri": "https://localhost:8080/",
     "height": 197
    },
    "id": "-Bo7ztfA7m76",
    "outputId": "7852cf8f-36cb-4055-aba5-91b9a670d34d"
   },
   "source": [
    "X_data_year.drop(columns='year').corr()"
   ],
   "execution_count": 229,
   "outputs": [
    {
     "output_type": "execute_result",
     "data": {
      "text/html": [
       "<div>\n",
       "<style scoped>\n",
       "    .dataframe tbody tr th:only-of-type {\n",
       "        vertical-align: middle;\n",
       "    }\n",
       "\n",
       "    .dataframe tbody tr th {\n",
       "        vertical-align: top;\n",
       "    }\n",
       "\n",
       "    .dataframe thead th {\n",
       "        text-align: right;\n",
       "    }\n",
       "</style>\n",
       "<table border=\"1\" class=\"dataframe\">\n",
       "  <thead>\n",
       "    <tr style=\"text-align: right;\">\n",
       "      <th></th>\n",
       "      <th>catch_crimes</th>\n",
       "      <th>criminality</th>\n",
       "      <th>minimum</th>\n",
       "      <th>salary</th>\n",
       "      <th>unemployment</th>\n",
       "    </tr>\n",
       "  </thead>\n",
       "  <tbody>\n",
       "    <tr>\n",
       "      <th>catch_crimes</th>\n",
       "      <td>1.000000</td>\n",
       "      <td>-0.587780</td>\n",
       "      <td>-0.022736</td>\n",
       "      <td>0.349016</td>\n",
       "      <td>-0.522331</td>\n",
       "    </tr>\n",
       "    <tr>\n",
       "      <th>criminality</th>\n",
       "      <td>-0.587780</td>\n",
       "      <td>1.000000</td>\n",
       "      <td>0.210459</td>\n",
       "      <td>-0.828401</td>\n",
       "      <td>0.892549</td>\n",
       "    </tr>\n",
       "    <tr>\n",
       "      <th>minimum</th>\n",
       "      <td>-0.022736</td>\n",
       "      <td>0.210459</td>\n",
       "      <td>1.000000</td>\n",
       "      <td>0.122051</td>\n",
       "      <td>0.113712</td>\n",
       "    </tr>\n",
       "    <tr>\n",
       "      <th>salary</th>\n",
       "      <td>0.349016</td>\n",
       "      <td>-0.828401</td>\n",
       "      <td>0.122051</td>\n",
       "      <td>1.000000</td>\n",
       "      <td>-0.872252</td>\n",
       "    </tr>\n",
       "    <tr>\n",
       "      <th>unemployment</th>\n",
       "      <td>-0.522331</td>\n",
       "      <td>0.892549</td>\n",
       "      <td>0.113712</td>\n",
       "      <td>-0.872252</td>\n",
       "      <td>1.000000</td>\n",
       "    </tr>\n",
       "  </tbody>\n",
       "</table>\n",
       "</div>"
      ],
      "text/plain": [
       "              catch_crimes  criminality   minimum    salary  unemployment\n",
       "catch_crimes      1.000000    -0.587780 -0.022736  0.349016     -0.522331\n",
       "criminality      -0.587780     1.000000  0.210459 -0.828401      0.892549\n",
       "minimum          -0.022736     0.210459  1.000000  0.122051      0.113712\n",
       "salary            0.349016    -0.828401  0.122051  1.000000     -0.872252\n",
       "unemployment     -0.522331     0.892549  0.113712 -0.872252      1.000000"
      ]
     },
     "metadata": {
      "tags": []
     },
     "execution_count": 229
    }
   ]
  },
  {
   "cell_type": "markdown",
   "metadata": {
    "id": "746FnitDaIEB"
   },
   "source": [
    "Посмотрим на наши временные ряды в зависимости от преступности по каждой из фичей"
   ]
  },
  {
   "cell_type": "code",
   "metadata": {
    "colab": {
     "base_uri": "https://localhost:8080/",
     "height": 284
    },
    "id": "klZBm-Ol9Tvj",
    "outputId": "cc9a6df9-3594-4281-fd82-f8f0625c6146"
   },
   "source": [
    "plt.figure(figsize=(20, 4))  \n",
    "\n",
    "idx = ['unemployment', 'salary', 'catch_crimes', 'minimum']\n",
    "count = 0\n",
    "\n",
    "for i in idx:\n",
    "    \n",
    "    visual_arr = np.vstack((X_data_year[i].values, X_data_year['criminality'].values)).T\n",
    "    visual_arr_sort = visual_arr[np.lexsort(np.fliplr(visual_arr).T)] \n",
    "\n",
    "    plt.subplot(1, 4, count+1)\n",
    "    count += 1\n",
    "\n",
    "    plt.plot(visual_arr_sort[:, 0], visual_arr_sort[:, 1])\n",
    "    plt.title(i)"
   ],
   "execution_count": 230,
   "outputs": [
    {
     "output_type": "display_data",
     "data": {
      "image/png": "[encoded data removed]",
      "text/plain": [
       "<Figure size 1440x288 with 4 Axes>"
      ]
     },
     "metadata": {
      "tags": []
     }
    }
   ]
  },
  {
   "cell_type": "markdown",
   "metadata": {
    "id": "VRBy1W1EJhep"
   },
   "source": [
    "### Вывод\n",
    "* Теория Беккера действительно работает, это хорошо видно на графиках выше\n",
    "* Безработица ведет к повышению преступности. Увеличение процента населения с доходом ниже прожиточного минимума в регионах не дает ясной картины влияния на преступность. Присутствует слабая корреляционная зависимость\n",
    "* Увеличение среднего дохода уменьшает уровень преступности. Также положительно для нас, то есть, уменьшая уровень преступности, влияет вероятность быть пойманным"
   ]
  },
  {
   "cell_type": "markdown",
   "metadata": {
    "id": "SM9ri20w2lPD"
   },
   "source": [
    "### Регрессионная модель по всей выборке"
   ]
  },
  {
   "cell_type": "markdown",
   "metadata": {
    "id": "PI3HV3h03sEU"
   },
   "source": [
    "Обучение модели. Разбиваем на обучающую и тренировочную, настраиваем параметры\n",
    "Смотрим на валидации, что с переобучением"
   ]
  },
  {
   "cell_type": "code",
   "metadata": {
    "id": "VGuiEg7t3sEV"
   },
   "source": [
    "# разбиваем выборку на независимые переменные и целевую\n",
    "Y_data = df_user_norm.criminality\n",
    "X_data = df_user_norm.drop(columns= 'criminality')\n",
    "\n",
    "X_train, X_test, y_train, y_test = train_test_split(X_data, Y_data, test_size=0.2, random_state=16)"
   ],
   "execution_count": 231,
   "outputs": []
  },
  {
   "cell_type": "code",
   "metadata": {
    "id": "a_LykHTL3sEV"
   },
   "source": [
    "model_regr = LinearRegression()\n",
    "model_regr.fit(X_train, y_train)\n",
    "y_test_pred = model_regr.predict(X_test)"
   ],
   "execution_count": 232,
   "outputs": []
  },
  {
   "cell_type": "code",
   "metadata": {
    "colab": {
     "base_uri": "https://localhost:8080/"
    },
    "id": "zQ-XRCwo3sEV",
    "outputId": "21937cfd-4f52-4fe6-ec40-fa4fafdbe6f0"
   },
   "source": [
    "print('Model intercept: ', model_regr.intercept_)\n",
    "print('Model coefficients: ', model_regr.coef_)\n",
    "print('MSE: ', mean_squared_error(y_test, y_test_pred))\n",
    "print(\"Test R2: \", r2_score(y_test, y_test_pred))"
   ],
   "execution_count": 233,
   "outputs": [
    {
     "output_type": "stream",
     "text": [
      "Model intercept:  1.5709865628790025\n",
      "Model coefficients:  [ 0.1146681   0.25426358 -0.18144908  0.01033295]\n",
      "MSE:  0.17278776007764826\n",
      "Test R2:  0.28303101224330063\n"
     ],
     "name": "stdout"
    }
   ]
  },
  {
   "cell_type": "code",
   "metadata": {
    "colab": {
     "base_uri": "https://localhost:8080/"
    },
    "id": "IOfvEevd3sEW",
    "outputId": "80ec5767-bbc2-4a4f-bca6-51da3187871b"
   },
   "source": [
    "# проверим на переобучение\n",
    "kfold = KFold(n_splits=10, random_state=16)\n",
    "cross_val_score_train = cross_val_score(model_regr, X_train, y_train, cv=kfold, scoring='neg_mean_squared_error')\n",
    "print('array MSE: ', cross_val_score_train)\n",
    "print('my MSE: ', mean_squared_error(y_test, y_test_pred))\n",
    "print('test MSE mean: ', cross_val_score_train.mean())"
   ],
   "execution_count": 234,
   "outputs": [
    {
     "output_type": "stream",
     "text": [
      "array MSE:  [-0.14892506 -0.23657908 -0.27378549 -0.16199101 -0.15459093 -0.21440991\n",
      " -0.22569334 -0.174259   -0.17392036 -0.2085939 ]\n",
      "my MSE:  0.17278776007764826\n",
      "test MSE mean:  -0.1972748081914837\n"
     ],
     "name": "stdout"
    },
    {
     "output_type": "stream",
     "text": [
      "/usr/local/lib/python3.6/dist-packages/sklearn/model_selection/_split.py:296: FutureWarning:\n",
      "\n",
      "Setting a random_state has no effect since shuffle is False. This will raise an error in 0.24. You should leave random_state to its default (None), or set shuffle=True.\n",
      "\n"
     ],
     "name": "stderr"
    }
   ]
  },
  {
   "cell_type": "markdown",
   "metadata": {
    "id": "siluYSmK-N9l"
   },
   "source": [
    "Все хорошо, оставим так"
   ]
  },
  {
   "cell_type": "markdown",
   "metadata": {
    "id": "DpWtCJrbIBU8"
   },
   "source": [
    "### Вывод по модели:\n",
    "* Модификация наших данных позволила нам получить более хорошую модель. Мы получили улучшение по показателям MSE и R2\n",
    "* Параметры модели:\n",
    "1.   MSE:  0.17278776007764826\n",
    "2.   Test R2:  0.28303101224330063"
   ]
  },
  {
   "cell_type": "markdown",
   "metadata": {
    "id": "Ufx7RBrl_t10"
   },
   "source": [
    "### Временные ряды"
   ]
  },
  {
   "cell_type": "markdown",
   "metadata": {
    "id": "P8RGaYe6_1Qz"
   },
   "source": [
    "Посмотрим, что выдаст наша модель, если мы будем рассматривать ее, как временной ряд. Агрегируем наши данные для прогнозирования по России"
   ]
  },
  {
   "cell_type": "markdown",
   "metadata": {
    "id": "9-KyyirZL-CP"
   },
   "source": [
    "***Прогнозирование по России***. Обучение модели"
   ]
  },
  {
   "cell_type": "code",
   "metadata": {
    "id": "hE-PKXZiRVay"
   },
   "source": [
    "# сгруппируем наши данные по годам и усредним нашу выборку по регионам\n",
    "X_data_year = pd.pivot_table(df_user_norm, values=['unemployment', 'salary', 'criminality', 'catch_crimes', 'minimum'], index=['year'],\n",
    "                               aggfunc=mean).reset_index()"
   ],
   "execution_count": 235,
   "outputs": []
  },
  {
   "cell_type": "code",
   "metadata": {
    "colab": {
     "base_uri": "https://localhost:8080/",
     "height": 197
    },
    "id": "QNhGnI7vfhN_",
    "outputId": "48548916-ea8b-429d-ae27-90e9037c726f"
   },
   "source": [
    "X_data_year.drop(columns='year').corr()"
   ],
   "execution_count": 125,
   "outputs": [
    {
     "output_type": "execute_result",
     "data": {
      "text/html": [
       "<div>\n",
       "<style scoped>\n",
       "    .dataframe tbody tr th:only-of-type {\n",
       "        vertical-align: middle;\n",
       "    }\n",
       "\n",
       "    .dataframe tbody tr th {\n",
       "        vertical-align: top;\n",
       "    }\n",
       "\n",
       "    .dataframe thead th {\n",
       "        text-align: right;\n",
       "    }\n",
       "</style>\n",
       "<table border=\"1\" class=\"dataframe\">\n",
       "  <thead>\n",
       "    <tr style=\"text-align: right;\">\n",
       "      <th></th>\n",
       "      <th>catch_crimes</th>\n",
       "      <th>criminality</th>\n",
       "      <th>minimum</th>\n",
       "      <th>salary</th>\n",
       "      <th>unemployment</th>\n",
       "    </tr>\n",
       "  </thead>\n",
       "  <tbody>\n",
       "    <tr>\n",
       "      <th>catch_crimes</th>\n",
       "      <td>1.000000</td>\n",
       "      <td>-0.587780</td>\n",
       "      <td>-0.022736</td>\n",
       "      <td>0.349016</td>\n",
       "      <td>-0.522331</td>\n",
       "    </tr>\n",
       "    <tr>\n",
       "      <th>criminality</th>\n",
       "      <td>-0.587780</td>\n",
       "      <td>1.000000</td>\n",
       "      <td>0.210459</td>\n",
       "      <td>-0.828401</td>\n",
       "      <td>0.892549</td>\n",
       "    </tr>\n",
       "    <tr>\n",
       "      <th>minimum</th>\n",
       "      <td>-0.022736</td>\n",
       "      <td>0.210459</td>\n",
       "      <td>1.000000</td>\n",
       "      <td>0.122051</td>\n",
       "      <td>0.113712</td>\n",
       "    </tr>\n",
       "    <tr>\n",
       "      <th>salary</th>\n",
       "      <td>0.349016</td>\n",
       "      <td>-0.828401</td>\n",
       "      <td>0.122051</td>\n",
       "      <td>1.000000</td>\n",
       "      <td>-0.872252</td>\n",
       "    </tr>\n",
       "    <tr>\n",
       "      <th>unemployment</th>\n",
       "      <td>-0.522331</td>\n",
       "      <td>0.892549</td>\n",
       "      <td>0.113712</td>\n",
       "      <td>-0.872252</td>\n",
       "      <td>1.000000</td>\n",
       "    </tr>\n",
       "  </tbody>\n",
       "</table>\n",
       "</div>"
      ],
      "text/plain": [
       "              catch_crimes  criminality   minimum    salary  unemployment\n",
       "catch_crimes      1.000000    -0.587780 -0.022736  0.349016     -0.522331\n",
       "criminality      -0.587780     1.000000  0.210459 -0.828401      0.892549\n",
       "minimum          -0.022736     0.210459  1.000000  0.122051      0.113712\n",
       "salary            0.349016    -0.828401  0.122051  1.000000     -0.872252\n",
       "unemployment     -0.522331     0.892549  0.113712 -0.872252      1.000000"
      ]
     },
     "metadata": {
      "tags": []
     },
     "execution_count": 125
    }
   ]
  },
  {
   "cell_type": "markdown",
   "metadata": {
    "id": "zMeg76l3fzU8"
   },
   "source": [
    "Уберем процент людей, у которых доход ниже прожиточного минимума. Информации по итогу в фиче нет"
   ]
  },
  {
   "cell_type": "code",
   "metadata": {
    "colab": {
     "base_uri": "https://localhost:8080/"
    },
    "id": "IhlI9yOpL-CP",
    "outputId": "4901747e-c4d3-4a47-82ce-ceb12cf2439f"
   },
   "source": [
    "# валидация\n",
    "\n",
    "# разбиваем выборку на независимые переменные и целевую\n",
    "y_train = X_data_year.criminality.head(9)\n",
    "X_train = X_data_year.drop(columns= ['criminality', 'year', 'minimum']).head(9)\n",
    "\n",
    "tscv = TimeSeriesSplit(max_train_size = None, n_splits = 8)\n",
    "\n",
    "model_regr = LinearRegression()\n",
    "cv_scores = cross_val_score(model_regr, X_train, y_train, cv=tscv,\n",
    "                                 scoring = 'neg_mean_squared_error')\n",
    "\n",
    "print(\"cv MSE:\", cv_scores)  \n",
    "print(\"Test MSE: \", mean(cv_scores) )\n"
   ],
   "execution_count": 236,
   "outputs": [
    {
     "output_type": "stream",
     "text": [
      "cv MSE: [-0.02102319 -0.01514491 -0.18310301 -0.65351288 -0.01021774 -0.01308814\n",
      " -0.0135248  -0.01173204]\n",
      "Test MSE:  -0.11516833911543173\n"
     ],
     "name": "stdout"
    }
   ]
  },
  {
   "cell_type": "code",
   "metadata": {
    "colab": {
     "base_uri": "https://localhost:8080/"
    },
    "id": "cc-YhRmbL-CP",
    "outputId": "56fc0f8f-007d-45b5-fde4-de4c299431fa"
   },
   "source": [
    "# обучим модель\n",
    "\n",
    "# разбиваем выборку на независимые переменные и целевую\n",
    "y_train = X_data_year.criminality.head(9)\n",
    "X_train = X_data_year.drop(columns= ['criminality', 'year', 'minimum']).head(9)\n",
    "\n",
    "y_test = X_data_year.criminality.tail(1)\n",
    "X_test = X_data_year.drop(columns= ['criminality', 'year', 'minimum']).tail(1)\n",
    "\n",
    "model_regr = LinearRegression()\n",
    "\n",
    "model_regr.fit(X_train, y_train)\n",
    "y_test_pred = model_regr.predict(X_test)\n",
    "\n",
    "print(\"Test MSE: \", mean_squared_error(y_test, y_test_pred))"
   ],
   "execution_count": 237,
   "outputs": [
    {
     "output_type": "stream",
     "text": [
      "Test MSE:  0.0022762260919260402\n"
     ],
     "name": "stdout"
    }
   ]
  },
  {
   "cell_type": "markdown",
   "metadata": {
    "id": "gWj44oVGdtZR"
   },
   "source": [
    "Посмотрим, что же прогнозирует наш временной ряд в данном случае"
   ]
  },
  {
   "cell_type": "code",
   "metadata": {
    "colab": {
     "base_uri": "https://localhost:8080/",
     "height": 301
    },
    "id": "imsFt3otdtZR",
    "outputId": "7313930e-80a6-4a96-a1b3-93a1ba51ac2e"
   },
   "source": [
    "Y_pred = np.concatenate((y_train, y_test_pred), axis=0)\n",
    "\n",
    "plt.figure(figsize(6,4 ))\n",
    "plt.plot(X_data_year['salary'], X_data_year['criminality'], label='real data', c = 'green')\n",
    "plt.plot(X_data_year['salary'], Y_pred, c = 'red', label='model data')\n",
    "plt.xlabel('средний доход')\n",
    "plt.ylabel('преступность')\n",
    "plt.title('усреднение по регионам')\n",
    "plt.legend()\n",
    "plt.show()"
   ],
   "execution_count": 238,
   "outputs": [
    {
     "output_type": "display_data",
     "data": {
      "image/png": "[encoded data removed]",
      "text/plain": [
       "<Figure size 432x288 with 1 Axes>"
      ]
     },
     "metadata": {
      "tags": []
     }
    }
   ]
  },
  {
   "cell_type": "markdown",
   "metadata": {
    "id": "b2tkGf3aL-CP"
   },
   "source": [
    "В целом при такой разнице MSE при прогнозировании ВР сложно сказать, переобучились ли мы. Для этого строим ВР - как можно заметить, для прогноза на 1 шаг вперед модель ведет себя адекватно"
   ]
  },
  {
   "cell_type": "code",
   "metadata": {
    "colab": {
     "base_uri": "https://localhost:8080/"
    },
    "id": "jgbKi6J9O_4S",
    "outputId": "1446134b-adfa-4bd2-bbf7-85f022f8d71f"
   },
   "source": [
    "print('Model intercept: ', model_regr.intercept_)\n",
    "print('Model coefficients: ', model_regr.coef_)\n",
    "print('y_real:', y_test.values, 'y_model:', y_test_pred)"
   ],
   "execution_count": 241,
   "outputs": [
    {
     "output_type": "stream",
     "text": [
      "Model intercept:  1.578266945112342\n",
      "Model coefficients:  [-0.19390924 -0.05625839  0.1384671 ]\n",
      "y_real: [1.45963052] y_model: [1.50734033]\n"
     ],
     "name": "stdout"
    }
   ]
  },
  {
   "cell_type": "markdown",
   "metadata": {
    "id": "pZH31cheQwKa"
   },
   "source": [
    "### Вывод\n",
    "\n",
    "* Наша модель обучилась предсказывать уровень преступности на основе независимых данных\n",
    "* В качестве модели используется временной ряд\n",
    "* Для проверки на переобучение используется валидация модели\n",
    "* Результаты модели для прогноза по России:\n",
    "1. Test MSE:  0.0022762260919260402\n",
    "2. y_real: [1.45963052] y_model: [1.50734033]\n"
   ]
  }
 ]
}